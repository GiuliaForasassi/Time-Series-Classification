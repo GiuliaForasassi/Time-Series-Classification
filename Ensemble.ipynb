{
  "nbformat": 4,
  "nbformat_minor": 0,
  "metadata": {
    "colab": {
      "provenance": []
    },
    "kernelspec": {
      "name": "python3",
      "display_name": "Python 3"
    },
    "language_info": {
      "name": "python"
    }
  },
  "cells": [
    {
      "cell_type": "markdown",
      "source": [
        "# **Access to the drive**"
      ],
      "metadata": {
        "id": "9TQyCBN1M0-m"
      }
    },
    {
      "cell_type": "code",
      "source": [
        "from google.colab import drive\n",
        "drive.mount('/gdrive')"
      ],
      "metadata": {
        "colab": {
          "base_uri": "https://localhost:8080/"
        },
        "id": "a6WoZimaMyyx",
        "outputId": "30daf68d-1934-4137-d6bc-16ad29281b9a"
      },
      "execution_count": 1,
      "outputs": [
        {
          "output_type": "stream",
          "name": "stdout",
          "text": [
            "Mounted at /gdrive\n"
          ]
        }
      ]
    },
    {
      "cell_type": "code",
      "source": [
        "%cd /gdrive/My Drive/homework2"
      ],
      "metadata": {
        "colab": {
          "base_uri": "https://localhost:8080/"
        },
        "id": "9YX_2zRtM0XA",
        "outputId": "5de74ee7-7e30-4d98-ff43-6fd3de1a411c"
      },
      "execution_count": 2,
      "outputs": [
        {
          "output_type": "stream",
          "name": "stdout",
          "text": [
            "/gdrive/My Drive/homework2\n"
          ]
        }
      ]
    },
    {
      "cell_type": "markdown",
      "source": [
        "# **Import libraries**"
      ],
      "metadata": {
        "id": "A8SSkOmtM3nq"
      }
    },
    {
      "cell_type": "code",
      "source": [
        "import tensorflow as tf\n",
        "import numpy as np\n",
        "import os\n",
        "import random\n",
        "import pandas as pd\n",
        "import seaborn as sns\n",
        "import matplotlib.pyplot as plt\n",
        "plt.rc('font', size=16) \n",
        "from sklearn.metrics import accuracy_score, f1_score, precision_score, recall_score\n",
        "from sklearn.metrics import confusion_matrix\n",
        "from sklearn.preprocessing import RobustScaler\n",
        "from sklearn.model_selection import train_test_split\n",
        "import warnings\n",
        "import logging\n",
        "from scipy import signal\n",
        "from scipy.fft import fftshift\n",
        "\n",
        "#from tsaug.visualization import plot\n",
        "\n",
        "tfk = tf.keras\n",
        "tfkl = tf.keras.layers\n",
        "print(tf.__version__)"
      ],
      "metadata": {
        "id": "08hepHIQl-kQ",
        "colab": {
          "base_uri": "https://localhost:8080/"
        },
        "outputId": "85bc935a-10ba-4490-dab1-e0561c6c5b62"
      },
      "execution_count": 3,
      "outputs": [
        {
          "output_type": "stream",
          "name": "stdout",
          "text": [
            "2.9.2\n"
          ]
        }
      ]
    },
    {
      "cell_type": "markdown",
      "source": [
        "# **Set the seed**"
      ],
      "metadata": {
        "id": "7YqyfxuGM64c"
      }
    },
    {
      "cell_type": "code",
      "source": [
        "# Random seed for reproducibility\n",
        "seed = 42\n",
        "\n",
        "random.seed(seed)\n",
        "os.environ['PYTHONHASHSEED'] = str(seed)\n",
        "np.random.seed(seed)\n",
        "tf.random.set_seed(seed)\n",
        "tf.compat.v1.set_random_seed(seed)"
      ],
      "metadata": {
        "id": "Nt-mcdWfMpX2"
      },
      "execution_count": 4,
      "outputs": []
    },
    {
      "cell_type": "markdown",
      "source": [
        "# **Dataset**"
      ],
      "metadata": {
        "id": "WaCmkrRCM88G"
      }
    },
    {
      "cell_type": "code",
      "source": [
        "# Unzip the dataset (on the disk)\n",
        "!unzip dataset_homework2.zip -d dataset"
      ],
      "metadata": {
        "id": "mfNXSuxlMs9m"
      },
      "execution_count": null,
      "outputs": []
    },
    {
      "cell_type": "code",
      "source": [
        "# Set dataset dir\n",
        "dataset_dir = 'dataset'"
      ],
      "metadata": {
        "id": "wqFYG6N0MwEO"
      },
      "execution_count": 5,
      "outputs": []
    },
    {
      "cell_type": "code",
      "source": [
        "# load to RAM from disk\n",
        "X = np.load(os.path.join(dataset_dir, 'X.npy'))\n",
        "print(\"Found {} X:\".format(len(X)))\n",
        "print(X.shape)\n",
        "print(X)\n",
        "\n",
        "y = np.load(os.path.join(dataset_dir, 'y.npy'))\n",
        "print(\"Found {} y:\".format(len(y)))\n",
        "print(y.shape)\n",
        "print(y)"
      ],
      "metadata": {
        "colab": {
          "base_uri": "https://localhost:8080/"
        },
        "id": "_B68BSY_mt-K",
        "outputId": "f8d41c21-bec0-46c3-e985-a2ccc36a0df9"
      },
      "execution_count": 6,
      "outputs": [
        {
          "output_type": "stream",
          "name": "stdout",
          "text": [
            "Found 2429 X:\n",
            "(2429, 36, 6)\n",
            "[[[ 1.7597e+01  8.1713e+00 -1.7842e+00 -1.9706e+01 -9.7135e+00\n",
            "   -6.1887e+01]\n",
            "  [ 2.2974e-01 -5.8956e+00  1.6837e+01  5.0390e+00  2.4332e+00\n",
            "    5.8914e+01]\n",
            "  [-2.9654e+01 -2.1296e+01  2.9103e+01 -4.7503e-01  7.5391e+01\n",
            "    1.0665e+01]\n",
            "  ...\n",
            "  [ 1.1982e+02  2.1849e+02  1.6398e+03  5.9787e+02  2.1922e+03\n",
            "    1.8484e+01]\n",
            "  [ 9.1591e+01  1.0378e+02  1.8238e+03  1.2460e+03  1.1301e+04\n",
            "    7.5107e+02]\n",
            "  [ 4.3719e+01  3.0689e+01  9.5092e+02  8.5927e+02  8.1331e+03\n",
            "    9.8883e+02]]\n",
            "\n",
            " [[ 2.4209e+00 -5.6039e-01  2.3654e+01 -3.8171e+00  1.3721e+00\n",
            "    8.2510e+00]\n",
            "  [ 1.6847e+00  2.3989e+01  1.7803e+01 -1.9575e+01 -8.2534e+00\n",
            "   -2.3959e+01]\n",
            "  [ 5.0692e-01  5.0281e+01  5.1196e+01  1.6036e+01  7.2974e-01\n",
            "   -1.8185e+01]\n",
            "  ...\n",
            "  [-1.5618e+01 -7.4233e+00  3.7833e+00  1.6565e+00 -1.0438e+01\n",
            "   -5.5229e+00]\n",
            "  [-1.0702e+01 -6.3568e+00 -4.6464e+00  6.7957e-01 -5.5260e+00\n",
            "    1.9070e+01]\n",
            "  [-4.6352e+00 -3.2769e+00 -5.9048e+00 -1.9564e-01  1.1487e+00\n",
            "    2.3275e+01]]\n",
            "\n",
            " [[ 3.9688e+01  7.0129e+02  3.0038e+03  3.4806e+01  6.5036e+01\n",
            "    7.7808e+01]\n",
            "  [ 1.6399e+02  1.2559e+03  3.3818e+03  2.3965e+03  5.1936e+01\n",
            "   -7.0134e+01]\n",
            "  [ 2.7545e+02  1.7005e+03  3.0922e+03  3.3084e+03  1.9858e+02\n",
            "    3.6742e+02]\n",
            "  ...\n",
            "  [ 3.1521e+01  9.1987e+00 -4.7701e+00  1.5335e+01  1.7212e+01\n",
            "    1.2384e+01]\n",
            "  [ 2.5363e+01  5.1979e+00  6.0153e+00 -6.8815e+00  1.0936e+01\n",
            "   -6.4854e+01]\n",
            "  [ 1.2557e+01  2.2734e+00  4.4831e+00 -1.2885e+01  1.0488e+01\n",
            "   -6.6960e+01]]\n",
            "\n",
            " ...\n",
            "\n",
            " [[ 5.0312e+02  1.6427e+03  1.6508e+03  1.5424e+03  1.4157e+03\n",
            "    1.3090e+03]\n",
            "  [ 3.1731e+02  2.0105e+03  2.1930e+03  2.1599e+03  2.0417e+03\n",
            "    1.9044e+03]\n",
            "  [ 2.4274e+02  1.4771e+03  1.8077e+03  1.8751e+03  1.8384e+03\n",
            "    1.7504e+03]\n",
            "  ...\n",
            "  [ 4.4821e-01  2.2123e-01  5.3692e+00  1.4156e+01  1.6963e+01\n",
            "    1.9934e+01]\n",
            "  [-7.4565e-01  1.8507e+00  5.6273e+00  1.3796e+01  1.6155e+01\n",
            "    2.7067e+01]\n",
            "  [-7.2203e-01  2.8672e+00  6.6811e+00  1.3440e+01  1.7874e+01\n",
            "    2.7193e+01]]\n",
            "\n",
            " [[ 1.7756e+01  2.0621e+00 -3.2330e+00  3.2775e-01 -1.5536e+01\n",
            "    9.1006e+00]\n",
            "  [ 2.6275e+01  2.0191e+00 -2.5783e+00 -1.6558e+00 -3.8543e+00\n",
            "   -5.7283e+01]\n",
            "  [ 3.1817e+01  1.6151e+00 -1.3073e+00 -3.9150e+00  1.5539e+01\n",
            "   -4.3464e+01]\n",
            "  ...\n",
            "  [ 8.9397e+00  8.3143e+00  2.8575e+01  4.1574e+01  8.0197e+01\n",
            "    6.3055e+01]\n",
            "  [ 1.0139e+01  5.4037e+00  2.5684e+01  3.6630e+01  5.1392e+01\n",
            "    1.5032e+01]\n",
            "  [ 5.9396e+00  2.3820e+00  1.3211e+01  1.8603e+01  3.3123e+01\n",
            "    4.4679e-01]]\n",
            "\n",
            " [[ 1.0391e+00 -1.2397e-01  6.9213e-01  4.2632e-01  8.7345e-01\n",
            "    6.6273e-01]\n",
            "  [-3.9896e+00  2.1111e+00  1.2686e+00 -5.9710e-01  3.9892e-01\n",
            "   -9.4295e-01]\n",
            "  [ 1.8169e-01  1.3814e+00  6.6310e-01  1.2138e-01  1.4185e+00\n",
            "    9.8861e+00]\n",
            "  ...\n",
            "  [ 2.0638e-01  1.0287e+00 -9.2512e-01 -7.1633e-01  1.7333e+00\n",
            "    4.7638e+00]\n",
            "  [ 4.1429e+00  1.0939e+00 -1.8921e-01  1.1410e+00  9.3441e-01\n",
            "    4.1742e+00]\n",
            "  [-1.5545e+00 -1.2121e+00  1.0705e+00  1.3272e+00  2.4010e+00\n",
            "    8.4550e+00]]]\n",
            "Found 2429 y:\n",
            "(2429,)\n",
            "[ 0  0  0 ... 11 11 11]\n"
          ]
        }
      ]
    },
    {
      "cell_type": "code",
      "source": [
        "sequence_length, num_features = X.shape[1:]\n",
        "print(sequence_length, num_features)\n",
        "\n",
        "print(pd.Series(y))\n",
        "y_series = pd.Series(y)\n",
        "# count how many things there are for classes\n",
        "print(y_series.value_counts().sort_index())\n",
        "y_series.value_counts().sort_index().plot.bar()"
      ],
      "metadata": {
        "colab": {
          "base_uri": "https://localhost:8080/",
          "height": 746
        },
        "id": "bR_Kx4rnmwJt",
        "outputId": "ddba1ea1-13e6-46cc-ab84-e6ebee8df2d8"
      },
      "execution_count": 7,
      "outputs": [
        {
          "output_type": "stream",
          "name": "stdout",
          "text": [
            "36 6\n",
            "0        0\n",
            "1        0\n",
            "2        0\n",
            "3        0\n",
            "4        0\n",
            "        ..\n",
            "2424    11\n",
            "2425    11\n",
            "2426    11\n",
            "2427    11\n",
            "2428    11\n",
            "Length: 2429, dtype: int32\n",
            "0      34\n",
            "1     123\n",
            "2     270\n",
            "3     381\n",
            "4      62\n",
            "5     153\n",
            "6     313\n",
            "7      68\n",
            "8     120\n",
            "9     777\n",
            "10     77\n",
            "11     51\n",
            "dtype: int64\n"
          ]
        },
        {
          "output_type": "execute_result",
          "data": {
            "text/plain": [
              "<matplotlib.axes._subplots.AxesSubplot at 0x7fee3f4013d0>"
            ]
          },
          "metadata": {},
          "execution_count": 7
        },
        {
          "output_type": "display_data",
          "data": {
            "text/plain": [
              "<Figure size 432x288 with 1 Axes>"
            ],
            "image/png": "[encoded data removed]"
          },
          "metadata": {
            "needs_background": "light"
          }
        }
      ]
    },
    {
      "cell_type": "code",
      "source": [
        "# Split the dataset using train-test split\n",
        "X_train, X_test, y_train, y_test = train_test_split(X, y, test_size=0.30, random_state=42, stratify=y)"
      ],
      "metadata": {
        "id": "-W3tciOvPqLZ"
      },
      "execution_count": 8,
      "outputs": []
    },
    {
      "cell_type": "code",
      "source": [
        "# Inspect the shape\n",
        "X_train.shape, X_test.shape, y_train.shape, y_test.shape"
      ],
      "metadata": {
        "colab": {
          "base_uri": "https://localhost:8080/"
        },
        "id": "4BwrlZ_8Ptkc",
        "outputId": "1bbab26d-3105-4e67-da23-aeaf2672c3d0"
      },
      "execution_count": 9,
      "outputs": [
        {
          "output_type": "execute_result",
          "data": {
            "text/plain": [
              "((1700, 36, 6), (729, 36, 6), (1700,), (729,))"
            ]
          },
          "metadata": {},
          "execution_count": 9
        }
      ]
    },
    {
      "cell_type": "markdown",
      "source": [
        "# **Paths**\n"
      ],
      "metadata": {
        "id": "3hG8uAzoi3pt"
      }
    },
    {
      "cell_type": "code",
      "execution_count": 10,
      "metadata": {
        "id": "Du6l-rI6imZG"
      },
      "outputs": [],
      "source": [
        "# Create path\n",
        "Model1 = \"diego_model/SubmissionModel/BiLSTM_data_dup_prepro.h5\"\n",
        "Model2 = \"giulia_model/SubmissionModel\"\n",
        "\n",
        "path_scaler_1 = \"diego_model\"\n",
        "path_scaler_2 = \"giulia_model\""
      ]
    },
    {
      "cell_type": "markdown",
      "source": [
        "# **Build ensemble model**"
      ],
      "metadata": {
        "id": "BPvv-Mjri7Iu"
      }
    },
    {
      "cell_type": "code",
      "source": [
        "#Initiating the usage of individual models\n",
        "\n",
        "import pickle\n",
        "\n",
        "keras_model1 = tf.keras.models.load_model(Model1, compile=False) \n",
        "keras_model1._name = 'Model1'\n",
        "\n",
        "keras_model2 = tf.keras.models.load_model(Model2, compile=False) \n",
        "keras_model2._name = 'Model2'\n",
        "\n",
        "models = [keras_model1, keras_model2] \n",
        "\n",
        "model_input_1 = tf.keras.Input(shape=[36,6])\n",
        "model_input_2 = tf.keras.Input(shape=[36,6])\n",
        "\n",
        "model_outputs = [\n",
        "      keras_model1(model_input_1),\n",
        "      keras_model2(model_input_2)\n",
        "]\n",
        "\n",
        "ensemble_output = tf.keras.layers.Average()(model_outputs) #averaging outputs\n",
        "enens_model = tf.keras.Model(inputs=[model_input_1, model_input_2], outputs=ensemble_output)\n",
        "\n",
        "enens_model.summary() #prints a comprehensive summary of the Keras model"
      ],
      "metadata": {
        "colab": {
          "base_uri": "https://localhost:8080/"
        },
        "id": "yDDCyiUVjGs4",
        "outputId": "0acdd9ad-6e96-4df8-8786-938ab1a10dc8"
      },
      "execution_count": 11,
      "outputs": [
        {
          "output_type": "stream",
          "name": "stdout",
          "text": [
            "Model: \"model\"\n",
            "__________________________________________________________________________________________________\n",
            " Layer (type)                   Output Shape         Param #     Connected to                     \n",
            "==================================================================================================\n",
            " input_1 (InputLayer)           [(None, 36, 6)]      0           []                               \n",
            "                                                                                                  \n",
            " input_2 (InputLayer)           [(None, 36, 6)]      0           []                               \n",
            "                                                                                                  \n",
            " Model1 (Functional)            (None, 12)           566924      ['input_1[0][0]']                \n",
            "                                                                                                  \n",
            " Model2 (Functional)            (None, 12)           510988      ['input_2[0][0]']                \n",
            "                                                                                                  \n",
            " average (Average)              (None, 12)           0           ['Model1[0][0]',                 \n",
            "                                                                  'Model2[0][0]']                 \n",
            "                                                                                                  \n",
            "==================================================================================================\n",
            "Total params: 1,077,912\n",
            "Trainable params: 1,075,352\n",
            "Non-trainable params: 2,560\n",
            "__________________________________________________________________________________________________\n"
          ]
        }
      ]
    },
    {
      "cell_type": "markdown",
      "source": [
        "# **Preprocess**"
      ],
      "metadata": {
        "id": "wIfwzcORZVLZ"
      }
    },
    {
      "cell_type": "code",
      "source": [
        "with open(os.path.join(\"giulia_model\", \"rscaler.pkl\"), \"rb\") as file:\n",
        "  scaler_g = pickle.load(file)\n",
        "with open(os.path.join(\"diego_model\", \"rscaler.pkl\"), \"rb\") as file:\n",
        "  scaler_d = pickle.load(file)"
      ],
      "metadata": {
        "id": "BtKEnXdoZonb"
      },
      "execution_count": 16,
      "outputs": []
    },
    {
      "cell_type": "code",
      "source": [
        "# preprocess modello giulia\n",
        "def preprocess(X, scaler, val_min, val_max):\n",
        "    X_clipped = X.clip(val_min, val_max)\n",
        "    num_examples, sequence_length, num_features = X.shape\n",
        "    X_standardized = scaler.transform(X_clipped.reshape([-1, num_features])).reshape([num_examples, sequence_length, num_features])\n",
        "    return X_standardized, scaler"
      ],
      "metadata": {
        "id": "-0QQ0DGEY0tr"
      },
      "execution_count": 17,
      "outputs": []
    },
    {
      "cell_type": "code",
      "source": [
        "sequence_length, num_features = X.shape[1:]\n",
        "val_min, val_max = -2000, 2000\n",
        "X_g, _ = preprocess(X_test, scaler_g, val_min, val_max)"
      ],
      "metadata": {
        "id": "VOk_51T9ZXlY"
      },
      "execution_count": 19,
      "outputs": []
    },
    {
      "cell_type": "code",
      "source": [
        "# preprocess modello diego\n",
        "X_d = scaler_d.transform(tf.reshape(X_test, [-1, num_features])).reshape([len(X_test), sequence_length, num_features])"
      ],
      "metadata": {
        "id": "YOVw7NgvZ_0V"
      },
      "execution_count": 26,
      "outputs": []
    },
    {
      "cell_type": "markdown",
      "source": [
        "# **Compile the model**"
      ],
      "metadata": {
        "id": "cbVWY739j4tI"
      }
    },
    {
      "cell_type": "code",
      "source": [
        "# Compile the model\n",
        "enens_model.compile(loss=tf.keras.losses.SparseCategoricalCrossentropy(), optimizer=tf.keras.optimizers.Adam(), metrics='accuracy')"
      ],
      "metadata": {
        "id": "b_rJaxk-j-Hs"
      },
      "execution_count": 28,
      "outputs": []
    },
    {
      "cell_type": "markdown",
      "source": [
        "# **Evaluate and predict**"
      ],
      "metadata": {
        "id": "ND7Dz1kOOFs-"
      }
    },
    {
      "cell_type": "code",
      "source": [
        "# Evaluate on test\n",
        "enens_model_metrics = enens_model.evaluate([X_d, X_g], y_test, return_dict=True)\n",
        "\n",
        "print()\n",
        "print(\"Test metrics enens_model_metrics\")\n",
        "print(enens_model_metrics)"
      ],
      "metadata": {
        "colab": {
          "base_uri": "https://localhost:8080/"
        },
        "id": "g8hgjmVFOn-l",
        "outputId": "c1d743d6-a436-41b7-8728-0aef400ffb0b"
      },
      "execution_count": 29,
      "outputs": [
        {
          "output_type": "stream",
          "name": "stdout",
          "text": [
            "23/23 [==============================] - 6s 102ms/step - loss: 0.3611 - accuracy: 0.8820\n",
            "\n",
            "Test metrics enens_model_metrics\n",
            "{'loss': 0.36105117201805115, 'accuracy': 0.882030189037323}\n"
          ]
        }
      ]
    },
    {
      "cell_type": "code",
      "source": [
        "predictions = enens_model.predict([X_d, X_g])"
      ],
      "metadata": {
        "colab": {
          "base_uri": "https://localhost:8080/"
        },
        "id": "Pe5fpj-EOosa",
        "outputId": "19b09b73-c848-4f54-fe3d-3885dcc44b47"
      },
      "execution_count": 31,
      "outputs": [
        {
          "output_type": "stream",
          "name": "stdout",
          "text": [
            "23/23 [==============================] - 5s 105ms/step\n"
          ]
        }
      ]
    },
    {
      "cell_type": "code",
      "source": [
        "predictions.shape"
      ],
      "metadata": {
        "colab": {
          "base_uri": "https://localhost:8080/"
        },
        "id": "52kPJ4RGeJFb",
        "outputId": "1eb266ac-020e-4290-9a61-3b8d6e418408"
      },
      "execution_count": 34,
      "outputs": [
        {
          "output_type": "execute_result",
          "data": {
            "text/plain": [
              "(729, 12)"
            ]
          },
          "metadata": {},
          "execution_count": 34
        }
      ]
    },
    {
      "cell_type": "markdown",
      "source": [
        "# **Confusion Matrix**"
      ],
      "metadata": {
        "id": "9lM6zufCWcbC"
      }
    },
    {
      "cell_type": "code",
      "source": [
        "#Create and plot the confusion matrix\n",
        "from sklearn.metrics import accuracy_score, f1_score, precision_score, recall_score\n",
        "from sklearn.metrics import confusion_matrix\n",
        "\n",
        "cm = confusion_matrix(y_test, np.argmax(predictions, axis=-1))\n",
        "\n",
        "# Plot the confusion matrix\n",
        "plt.figure(figsize=(10,8))\n",
        "sns.heatmap(cm.T, xticklabels=sorted(set(y_test)), yticklabels=sorted(set(y_test)))\n",
        "plt.xlabel('True labels')\n",
        "plt.ylabel('Predicted labels')\n",
        "plt.show()"
      ],
      "metadata": {
        "colab": {
          "base_uri": "https://localhost:8080/",
          "height": 507
        },
        "id": "658PYT9gWi-Y",
        "outputId": "df41809b-932e-4128-eb26-03890b6bf45c"
      },
      "execution_count": 47,
      "outputs": [
        {
          "output_type": "display_data",
          "data": {
            "text/plain": [
              "<Figure size 720x576 with 2 Axes>"
            ],
            "image/png": "[encoded data removed]"
          },
          "metadata": {
            "needs_background": "light"
          }
        }
      ]
    },
    {
      "cell_type": "code",
      "source": [
        "#Here we compute accuracy, precision, recall and f1\n",
        "accuracy = accuracy_score(y_test, np.argmax(predictions, axis=-1))\n",
        "precision = precision_score(y_test, np.argmax(predictions, axis=-1), average='macro')\n",
        "recall = recall_score(y_test, np.argmax(predictions, axis=-1), average='macro')\n",
        "f1 = f1_score(y_test, np.argmax(predictions, axis=-1), average='macro')\n",
        "print('Accuracy:',accuracy.round(4))\n",
        "print('Precision:',precision.round(4))\n",
        "print('Recall:',recall.round(4))\n",
        "print('F1:',f1.round(4))"
      ],
      "metadata": {
        "colab": {
          "base_uri": "https://localhost:8080/"
        },
        "id": "7IJyhU6iWn8_",
        "outputId": "2b28fcbd-0ac8-4e93-bde8-6130e46987f0"
      },
      "execution_count": 49,
      "outputs": [
        {
          "output_type": "stream",
          "name": "stdout",
          "text": [
            "Accuracy: 0.882\n",
            "Precision: 0.9097\n",
            "Recall: 0.8575\n",
            "F1: 0.8777\n"
          ]
        }
      ]
    },
    {
      "cell_type": "markdown",
      "source": [
        "# **Save the model**"
      ],
      "metadata": {
        "id": "55qNWMfqnxY0"
      }
    },
    {
      "cell_type": "code",
      "source": [
        "enens_model.save('Ensemble_model')"
      ],
      "metadata": {
        "colab": {
          "base_uri": "https://localhost:8080/"
        },
        "id": "GSXE0P7cniHL",
        "outputId": "5b1c53af-d175-462c-a1f9-a6120db756db"
      },
      "execution_count": null,
      "outputs": [
        {
          "output_type": "stream",
          "name": "stderr",
          "text": [
            "WARNING:absl:Found untraced functions such as _jit_compiled_convolution_op, _jit_compiled_convolution_op, _jit_compiled_convolution_op, _jit_compiled_convolution_op, _jit_compiled_convolution_op while saving (showing 5 of 19). These functions will not be directly callable after loading.\n"
          ]
        }
      ]
    }
  ]
}